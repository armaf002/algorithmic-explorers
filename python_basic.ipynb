{
 "cells": [
  {
   "cell_type": "markdown",
   "metadata": {},
   "source": [
    "# Python for Beginners - Jupyter Notebook\n",
    "\n",
    "## Title: Introduction to Python Programming\n",
    "## Author: Ridwan Abdurahman\n",
    "## Course: Data Science and Machine Learning for Beginners\n",
    "\n",
    "# Notebook Outline\n",
    "1. Introduction to Python\n",
    "2. Write your first Python programs\n",
    "3. Use Boolean Logic in Python\n",
    "4. Use Strings in Python\n",
    "5. Use Mathematical Operations in Python\n",
    "6. Introduction to Lists in Python\n",
    "7. Use `while` and `for` Loops in Python\n",
    "8. Manage Data with Python Dictionaries\n",
    "9. Python Functions\n",
    "10. Python Error Handling\n"
   ]
  },
  {
   "cell_type": "markdown",
   "metadata": {},
   "source": [
    "### 1. Introduction to Python\n",
    "\n",
    "Python is a versatile and powerful programming language commonly used in data science, \n",
    "machine learning, and artificial intelligence. It's known for its readability and \n",
    "simplicity, making it a great language for beginners.\n",
    "\n",
    "**Why Python for ML?**\n",
    "- Extensive libraries (e.g., NumPy, pandas, scikit-learn)\n",
    "- Strong community support\n",
    "- Easy syntax"
   ]
  },
  {
   "cell_type": "code",
   "execution_count": 2,
   "metadata": {},
   "outputs": [
    {
     "name": "stdout",
     "output_type": "stream",
     "text": [
      "Hello, World! This is your first Python program.\n"
     ]
    }
   ],
   "source": [
    "# Your first Python program code\n",
    "print(\"Hello, World! This is your first Python program.\") "
   ]
  },
  {
   "cell_type": "markdown",
   "metadata": {},
   "source": [
    "### 2. Write Your First Python Programs\n",
    "\n",
    "**Getting Started with Variables and Data Types**\n",
    "- Variables are used to store data. \n",
    "- Let's start with a few examples."
   ]
  },
  {
   "cell_type": "code",
   "execution_count": 4,
   "metadata": {},
   "outputs": [
    {
     "name": "stdout",
     "output_type": "stream",
     "text": [
      "Name: Ridwan\n",
      "Age: 25\n",
      "Is a student: True\n"
     ]
    }
   ],
   "source": [
    "# Declaring variables\n",
    "name = \"Ridwan\"\n",
    "age = 25\n",
    "is_student = True\n",
    "\n",
    "# print variables\n",
    "print(\"Name:\", name)\n",
    "print(\"Age:\", age)\n",
    "print(\"Is a student:\", is_student)"
   ]
  },
  {
   "cell_type": "code",
   "execution_count": 5,
   "metadata": {},
   "outputs": [
    {
     "name": "stdout",
     "output_type": "stream",
     "text": [
      "Age in 5 years: 30\n"
     ]
    }
   ],
   "source": [
    "# Type Conversion\n",
    "# Converting data types in Python is easy.\n",
    "age_in_5_years = age + 5\n",
    "print(\"Age in 5 years:\", age_in_5_years)\n"
   ]
  },
  {
   "cell_type": "markdown",
   "metadata": {},
   "source": [
    "### 3. Use Boolean Logic in Python\n",
    "**Boolean Logic and Conditional Statements**\n",
    "- Boolean logic helps make decisions in code using conditions."
   ]
  },
  {
   "cell_type": "code",
   "execution_count": 6,
   "metadata": {},
   "outputs": [
    {
     "name": "stdout",
     "output_type": "stream",
     "text": [
      "Is a equal to b? False\n",
      "Is a less than b? True\n",
      "x and y: False\n",
      "x or y: True\n"
     ]
    }
   ],
   "source": [
    "a = 10\n",
    "b = 20\n",
    "\n",
    "# Comparison operators\n",
    "print(\"Is a equal to b?\", a == b)\n",
    "print(\"Is a less than b?\", a < b)\n",
    "\n",
    "# Logical operators\n",
    "x = True\n",
    "y = False\n",
    "print(\"x and y:\", x and y)\n",
    "print(\"x or y:\", x or y)\n"
   ]
  },
  {
   "cell_type": "markdown",
   "metadata": {},
   "source": [
    "### 4. Use Strings in Python\n",
    "**Working with Strings**\n",
    "- Strings are used to represent text."
   ]
  },
  {
   "cell_type": "code",
   "execution_count": 7,
   "metadata": {},
   "outputs": [
    {
     "name": "stdout",
     "output_type": "stream",
     "text": [
      "Hello, Python!\n",
      "Hello, Python! Ridwan\n",
      "Hello, Python! My name is Ridwan.\n",
      "HELLO, PYTHON!\n",
      "hello, python!\n",
      "Hi, Python!\n"
     ]
    }
   ],
   "source": [
    "greeting = \"Hello, Python!\"\n",
    "print(greeting)\n",
    "\n",
    "# String concatenation\n",
    "name = \"Ridwan\"\n",
    "message = greeting + \" \" + name\n",
    "print(message)\n",
    "\n",
    "# Formatting strings\n",
    "formatted_message = f\"{greeting} My name is {name}.\"\n",
    "print(formatted_message)\n",
    "\n",
    "# String methods\n",
    "print(greeting.upper())\n",
    "print(greeting.lower())\n",
    "print(greeting.replace(\"Hello\", \"Hi\"))"
   ]
  },
  {
   "cell_type": "markdown",
   "metadata": {},
   "source": [
    "### 5. Use Mathematical Operations in Python\n",
    "**Mathematical Operations**\n",
    "- Arithmetic operations in Python are straightforward."
   ]
  },
  {
   "cell_type": "code",
   "execution_count": 8,
   "metadata": {},
   "outputs": [
    {
     "name": "stdout",
     "output_type": "stream",
     "text": [
      "Addition: 19\n",
      "Subtraction: 11\n",
      "Multiplication: 60\n",
      "Division: 3.75\n",
      "Distance between Mars and Venus: 184 million kilometers\n"
     ]
    }
   ],
   "source": [
    "# Basic arithmetic\n",
    "x = 15\n",
    "y = 4\n",
    "print(\"Addition:\", x + y)\n",
    "print(\"Subtraction:\", x - y)\n",
    "print(\"Multiplication:\", x * y)\n",
    "print(\"Division:\", x / y)\n",
    "\n",
    "# Project: Calculate Distance Between Planets\n",
    "earth_to_mars = 225  # in million kilometers\n",
    "earth_to_venus = 41  # in million kilometers\n",
    "distance = earth_to_mars - earth_to_venus\n",
    "print(\"Distance between Mars and Venus:\", distance, \"million kilometers\")"
   ]
  },
  {
   "cell_type": "markdown",
   "metadata": {},
   "source": [
    "### 6. Introduction to Lists in Python\n",
    "**Working with Lists**\n",
    "- Lists store multiple values in one variable."
   ]
  },
  {
   "cell_type": "code",
   "execution_count": 11,
   "metadata": {},
   "outputs": [
    {
     "name": "stdout",
     "output_type": "stream",
     "text": [
      "Original list: ['apple', 'banana', 'cherry']\n",
      "After adding orange: ['apple', 'banana', 'cherry', 'orange']\n",
      "After removing banana: ['apple', 'cherry', 'orange']\n",
      "First fruit: apple\n",
      "Last fruit: orange\n",
      "After inserting 'mango' at index 1: ['apple', 'mango', 'cherry', 'orange']\n",
      "After changing the first element to 'grape': ['grape', 'mango', 'cherry', 'orange']\n"
     ]
    }
   ],
   "source": [
    "fruits = [\"apple\", \"banana\", \"cherry\"]\n",
    "print(\"Original list:\", fruits)\n",
    "\n",
    "# List operations\n",
    "fruits.append(\"orange\")\n",
    "print(\"After adding orange:\", fruits)\n",
    "\n",
    "fruits.remove(\"banana\")\n",
    "print(\"After removing banana:\", fruits)\n",
    "\n",
    "# Accessing elements\n",
    "print(\"First fruit:\", fruits[0])\n",
    "print(\"Last fruit:\", fruits[-1])\n",
    "\n",
    "# Inserting elements at a specific position\n",
    "fruits.insert(1, \"mango\")\n",
    "print(\"After inserting 'mango' at index 1:\", fruits)\n",
    "\n",
    "# Modifying elements\n",
    "fruits[0] = \"grape\"\n",
    "print(\"After changing the first element to 'grape':\", fruits)\n"
   ]
  },
  {
   "cell_type": "markdown",
   "metadata": {},
   "source": [
    "### 7. Introduction to Tuples in Python\n",
    "**Working with Tuples**\n",
    "- Tuples are similar to lists in Python but are immutable, meaning you cannot change their elements after creation."
   ]
  },
  {
   "cell_type": "code",
   "execution_count": 12,
   "metadata": {},
   "outputs": [
    {
     "name": "stdout",
     "output_type": "stream",
     "text": [
      "Original tuple: ('apple', 'banana', 'cherry')\n",
      "First fruit: apple\n",
      "Last fruit: cherry\n"
     ]
    }
   ],
   "source": [
    "# Creating a tuple\n",
    "fruit_tuple = (\"apple\", \"banana\", \"cherry\")\n",
    "print(\"Original tuple:\", fruit_tuple)\n",
    "\n",
    "# Accessing elements in a tuple\n",
    "print(\"First fruit:\", fruit_tuple[0])\n",
    "print(\"Last fruit:\", fruit_tuple[-1])"
   ]
  },
  {
   "cell_type": "code",
   "execution_count": 13,
   "metadata": {},
   "outputs": [
    {
     "ename": "TypeError",
     "evalue": "'tuple' object does not support item assignment",
     "output_type": "error",
     "traceback": [
      "\u001b[0;31m---------------------------------------------------------------------------\u001b[0m",
      "\u001b[0;31mTypeError\u001b[0m                                 Traceback (most recent call last)",
      "\u001b[1;32m/workspaces/python-basic/python_basic.ipynb Cell 17\u001b[0m line \u001b[0;36m1\n\u001b[0;32m----> <a href='vscode-notebook-cell://codespaces%2Bmusical-potato-9rwv7xxqgjj2x5g/workspaces/python-basic/python_basic.ipynb#X26sdnNjb2RlLXJlbW90ZQ%3D%3D?line=0'>1</a>\u001b[0m fruit_tuple[\u001b[39m0\u001b[39;49m] \u001b[39m=\u001b[39m \u001b[39m\"\u001b[39m\u001b[39mgrape\u001b[39m\u001b[39m\"\u001b[39m\n",
      "\u001b[0;31mTypeError\u001b[0m: 'tuple' object does not support item assignment"
     ]
    }
   ],
   "source": [
    "fruit_tuple[0] = \"grape\""
   ]
  },
  {
   "cell_type": "markdown",
   "metadata": {},
   "source": []
  },
  {
   "cell_type": "code",
   "execution_count": 14,
   "metadata": {},
   "outputs": [
    {
     "name": "stdout",
     "output_type": "stream",
     "text": [
      "Coordinates: (10.0, 20.0)\n"
     ]
    }
   ],
   "source": [
    "# Tuples can be used for data that should not change, such as coordinates or constants.\n",
    "coordinates = (10.0, 20.0)\n",
    "print(\"Coordinates:\", coordinates)"
   ]
  },
  {
   "cell_type": "code",
   "execution_count": 15,
   "metadata": {},
   "outputs": [
    {
     "name": "stdout",
     "output_type": "stream",
     "text": [
      "Tasks list (mutable): ['Study', 'Exercise', 'Grocery shopping', 'Read a book']\n",
      "Location tuple (immutable): (40.7128, -74.006)\n"
     ]
    }
   ],
   "source": [
    "### Difference Between Lists and Tuples\n",
    "\n",
    "# **Difference Between Lists and Tuples**\n",
    "\n",
    "# 1. Mutability:\n",
    "#    - Lists are mutable, so you can modify, add, or remove items.\n",
    "#    - Tuples are immutable, so once they are created, their content cannot be changed.\n",
    "\n",
    "# 2. Syntax:\n",
    "#    - Lists use square brackets, e.g., `[\"apple\", \"banana\"]`.\n",
    "#    - Tuples use parentheses, e.g., `(\"apple\", \"banana\")`.\n",
    "\n",
    "# 3. Performance:\n",
    "#    - Tuples can be slightly faster than lists for accessing data because of their immutability.\n",
    "\n",
    "# Practical Example\n",
    "# Lists are often used for collections of items that may change, like a list of tasks.\n",
    "# Tuples are best for fixed data, like geographic coordinates or days of the week.\n",
    "\n",
    "# Example with List (tasks that can change)\n",
    "tasks = [\"Study\", \"Exercise\", \"Grocery shopping\"]\n",
    "tasks.append(\"Read a book\")\n",
    "print(\"Tasks list (mutable):\", tasks)\n",
    "\n",
    "# Example with Tuple (coordinates that don't change)\n",
    "location = (40.7128, -74.0060)  # Coordinates of New York City\n",
    "print(\"Location tuple (immutable):\", location)\n"
   ]
  },
  {
   "cell_type": "markdown",
   "metadata": {},
   "source": [
    "### 8. Use while and for Loops in Python\n",
    "Loops are an essential part of programming, allowing us to repeat code until a condition is met (in a while loop) or iterate over elements in a collection (in a for loop). Let's dive into both types of loops and see how they work."
   ]
  },
  {
   "cell_type": "markdown",
   "metadata": {},
   "source": [
    "#### **`while` Loops**\n",
    "\n",
    "A **`while`** loop repeats a block of code as long as a condition is true. The loop will continue to execute until the condition becomes false."
   ]
  },
  {
   "cell_type": "code",
   "execution_count": 3,
   "metadata": {},
   "outputs": [
    {
     "name": "stdout",
     "output_type": "stream",
     "text": [
      "Count: 1\n",
      "Count: 2\n",
      "Count: 3\n",
      "Count: 4\n",
      "Count: 5\n"
     ]
    }
   ],
   "source": [
    "## **Syntax of a `while` loop:**\n",
    "\n",
    "''' python\n",
    "while condition:\n",
    "    # code to execute\n",
    "'''\n",
    "\n",
    "# Example of a while loop:\n",
    "# Let's print numbers from 1 to 5 using a while loop\n",
    "count = 1\n",
    "while count <= 5:\n",
    "    print(\"Count:\", count)\n",
    "    count += 1  # This increments count to avoid an infinite loop\n",
    "\n"
   ]
  },
  {
   "cell_type": "markdown",
   "metadata": {},
   "source": [
    "#### **`for` Loops**\n",
    "\n",
    "A **`for`** loop is used to iterate over a sequence (like a list, tuple, dictionary, or range of numbers). Unlike a **`while`** loop, a **`for`** loop iterates over a collection of items without needing an explicit condition."
   ]
  },
  {
   "cell_type": "code",
   "execution_count": 5,
   "metadata": {},
   "outputs": [
    {
     "name": "stdout",
     "output_type": "stream",
     "text": [
      "Fruit: apple\n",
      "Fruit: banana\n",
      "Fruit: cherry\n"
     ]
    }
   ],
   "source": [
    "# Syntax of a for loop:\n",
    "'''\n",
    "for variable in sequence:\n",
    "    # code to execute\n",
    "'''\n",
    "\n",
    "# Example of a for loop with a list:\n",
    "# Let's iterate over a list of fruits\n",
    "fruits = [\"apple\", \"banana\", \"cherry\"]\n",
    "for fruit in fruits:\n",
    "    print(\"Fruit:\", fruit)\n"
   ]
  },
  {
   "cell_type": "markdown",
   "metadata": {},
   "source": [
    "#### **Using `range()` with `for` Loops**\n",
    "\n",
    "The `range()` function is commonly used with `for` loops to generate a sequence of numbers.\n"
   ]
  },
  {
   "cell_type": "code",
   "execution_count": 6,
   "metadata": {},
   "outputs": [
    {
     "name": "stdout",
     "output_type": "stream",
     "text": [
      "Number: 1\n",
      "Number: 2\n",
      "Number: 3\n",
      "Number: 4\n",
      "Number: 5\n"
     ]
    }
   ],
   "source": [
    "# Printing numbers from 1 to 5\n",
    "for number in range(1, 6):\n",
    "    print(\"Number:\", number)\n"
   ]
  },
  {
   "cell_type": "markdown",
   "metadata": {},
   "source": [
    "#### **Break and Continue Statements**\n",
    "\n",
    "Both `for` and `while` loops support **`break`** and **`continue`** statements for more control over loop execution.\n",
    "1. **`break`**: Exits the loop entirely.\n",
    "2. **`continue`**: Skips the current iteration and moves to the next one."
   ]
  },
  {
   "cell_type": "code",
   "execution_count": 7,
   "metadata": {},
   "outputs": [
    {
     "name": "stdout",
     "output_type": "stream",
     "text": [
      "Fruit: apple\n"
     ]
    }
   ],
   "source": [
    "# Example with break:\n",
    "# Stop the loop when the fruit is \"banana\"\n",
    "for fruit in fruits:\n",
    "    if fruit == \"banana\":\n",
    "        break\n",
    "    print(\"Fruit:\", fruit)\n"
   ]
  },
  {
   "cell_type": "code",
   "execution_count": 8,
   "metadata": {},
   "outputs": [
    {
     "name": "stdout",
     "output_type": "stream",
     "text": [
      "Fruit: apple\n",
      "Fruit: cherry\n"
     ]
    }
   ],
   "source": [
    "# Example with continue:    \n",
    "# Skip \"banana\" and print the rest\n",
    "for fruit in fruits:\n",
    "    if fruit == \"banana\":\n",
    "        continue\n",
    "    print(\"Fruit:\", fruit)\n"
   ]
  },
  {
   "cell_type": "code",
   "execution_count": 9,
   "metadata": {},
   "outputs": [
    {
     "name": "stdout",
     "output_type": "stream",
     "text": [
      "Sum from 1 to 10: 55\n",
      "The factorial of 5 is: 120\n"
     ]
    }
   ],
   "source": [
    "# Summing up the numbers from 1 to 10 using a while loop\n",
    "total = 0\n",
    "num = 1\n",
    "while num <= 10:\n",
    "    total += num\n",
    "    num += 1\n",
    "print(\"Sum from 1 to 10:\", total)\n",
    "\n",
    "# Calculating the factorial of a number using a for loop\n",
    "factorial = 1\n",
    "number = 5  # Change this to compute the factorial of any other number\n",
    "for i in range(1, number + 1):\n",
    "    factorial *= i\n",
    "print(f\"The factorial of {number} is:\", factorial)\n"
   ]
  },
  {
   "cell_type": "markdown",
   "metadata": {},
   "source": [
    "# 8. Manage Data with Python Dictionaries\n",
    "**Working with Dictionaries**\n",
    "- Dictionaries store data as key-value pairs."
   ]
  },
  {
   "cell_type": "code",
   "execution_count": 12,
   "metadata": {},
   "outputs": [],
   "source": [
    "# Creating a dictionary with key-value pairs\n",
    "student = {\n",
    "    \"name\": \"Ridwan\",\n",
    "    \"age\": 25,\n",
    "    \"courses\": [\"Math\", \"Science\"]\n",
    "}\n"
   ]
  },
  {
   "cell_type": "markdown",
   "metadata": {},
   "source": [
    "In this example:\n",
    "- `\"name\"`, `\"age\"`, and `\"courses\"` are keys.\n",
    "- `\"Ridwan\"`, `25`, and `[\"Math\", \"Science\"]` are values associated with these keys."
   ]
  },
  {
   "cell_type": "code",
   "execution_count": 13,
   "metadata": {},
   "outputs": [
    {
     "name": "stdout",
     "output_type": "stream",
     "text": [
      "Name: Ridwan\n",
      "Age: 25\n",
      "Courses: ['Math', 'Science']\n"
     ]
    }
   ],
   "source": [
    "\n",
    "# Accessing values\n",
    "print(\"Name:\", student[\"name\"])\n",
    "print(\"Age:\", student[\"age\"]) \n",
    "print(\"Courses:\", student[\"courses\"])"
   ]
  },
  {
   "cell_type": "code",
   "execution_count": 14,
   "metadata": {},
   "outputs": [
    {
     "name": "stdout",
     "output_type": "stream",
     "text": [
      "Updated dictionary: {'name': 'Ridwan', 'age': 25, 'courses': ['Math', 'Science'], 'grade': 'A'}\n",
      "Updated age: 26\n"
     ]
    }
   ],
   "source": [
    "# Adding a new key-value pair\n",
    "student[\"grade\"] = \"A\"\n",
    "print(\"Updated dictionary:\", student)\n",
    "\n",
    "# Updating an existing key\n",
    "student[\"age\"] = 26\n",
    "print(\"Updated age:\", student[\"age\"])\n"
   ]
  },
  {
   "cell_type": "code",
   "execution_count": 15,
   "metadata": {},
   "outputs": [
    {
     "name": "stdout",
     "output_type": "stream",
     "text": [
      "26\n"
     ]
    }
   ],
   "source": [
    "print(student[\"age\"])"
   ]
  },
  {
   "cell_type": "code",
   "execution_count": 16,
   "metadata": {},
   "outputs": [
    {
     "name": "stdout",
     "output_type": "stream",
     "text": [
      "After deleting grade: {'name': 'Ridwan', 'age': 26, 'courses': ['Math', 'Science']}\n",
      "Removed age: 26\n",
      "Dictionary after removal: {'name': 'Ridwan', 'courses': ['Math', 'Science']}\n"
     ]
    }
   ],
   "source": [
    "# Removing a key-value pair with `del`\n",
    "del student[\"grade\"]\n",
    "print(\"After deleting grade:\", student)\n",
    "\n",
    "# Using `.pop()` to remove a key and get its value\n",
    "age = student.pop(\"age\")\n",
    "print(\"Removed age:\", age)\n",
    "print(\"Dictionary after removal:\", student)\n"
   ]
  },
  {
   "cell_type": "code",
   "execution_count": 17,
   "metadata": {},
   "outputs": [
    {
     "name": "stdout",
     "output_type": "stream",
     "text": [
      "After clearing: {}\n"
     ]
    }
   ],
   "source": [
    "student.clear()\n",
    "print(\"After clearing:\", student)  # Output: {}\n"
   ]
  },
  {
   "cell_type": "code",
   "execution_count": 18,
   "metadata": {},
   "outputs": [
    {
     "name": "stdout",
     "output_type": "stream",
     "text": [
      "Copy of student: {}\n"
     ]
    }
   ],
   "source": [
    "student_copy = student.copy()\n",
    "print(\"Copy of student:\", student_copy)\n"
   ]
  },
  {
   "cell_type": "code",
   "execution_count": 19,
   "metadata": {},
   "outputs": [
    {
     "name": "stdout",
     "output_type": "stream",
     "text": [
      "Updated student: {'name': 'Ali', 'hobby': 'Reading'}\n"
     ]
    }
   ],
   "source": [
    "new_data = {\"name\": \"Ali\", \"hobby\": \"Reading\"}\n",
    "student.update(new_data)\n",
    "print(\"Updated student:\", student)\n"
   ]
  },
  {
   "cell_type": "markdown",
   "metadata": {},
   "source": [
    "# 10. Python Functions\n",
    "**Using Functions**\n",
    "- Functions help organize code into reusable blocks.\n"
   ]
  },
  {
   "cell_type": "code",
   "execution_count": 20,
   "metadata": {},
   "outputs": [
    {
     "name": "stdout",
     "output_type": "stream",
     "text": [
      "Hello, Ridwan!\n",
      "Sum: 15\n"
     ]
    }
   ],
   "source": [
    "def greet(name):\n",
    "    print(f\"Hello, {name}!\")\n",
    "\n",
    "greet(\"Ridwan\")\n",
    "\n",
    "# Function with multiple arguments\n",
    "def add_numbers(a, b):\n",
    "    return a + b\n",
    "\n",
    "result = add_numbers(10, 5)\n",
    "print(\"Sum:\", result)"
   ]
  },
  {
   "cell_type": "code",
   "execution_count": null,
   "metadata": {},
   "outputs": [],
   "source": []
  },
  {
   "cell_type": "code",
   "execution_count": null,
   "metadata": {},
   "outputs": [],
   "source": []
  }
 ],
 "metadata": {
  "language_info": {
   "name": "python"
  }
 },
 "nbformat": 4,
 "nbformat_minor": 2
}
